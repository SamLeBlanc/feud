{
 "cells": [
  {
   "cell_type": "code",
   "execution_count": 24,
   "id": "48626f94",
   "metadata": {},
   "outputs": [],
   "source": [
    "import numpy as np\n",
    "import pandas as pd\n",
    "import re\n",
    "pd.set_option('display.max_rows', None)\n",
    "pd.set_option('display.max_columns', 200)\n",
    "\n",
    "import warnings\n",
    "warnings.filterwarnings(\"ignore\")"
   ]
  },
  {
   "cell_type": "code",
   "execution_count": 25,
   "id": "a404f0af",
   "metadata": {},
   "outputs": [],
   "source": [
    "from bs4 import BeautifulSoup\n",
    "import requests\n",
    "\n",
    "import missingno as ms\n",
    "import time\n",
    "import random\n",
    "import datetime\n",
    "from datetime import timedelta"
   ]
  },
  {
   "cell_type": "code",
   "execution_count": 26,
   "id": "daec2a26",
   "metadata": {
    "scrolled": true
   },
   "outputs": [],
   "source": [
    "import datefinder\n",
    "# Example\n",
    "string_with_dates = \"“Family Feud” 11/23/22\"\n",
    "matches = datefinder.find_dates(string_with_dates)\n",
    "next(matches);"
   ]
  },
  {
   "cell_type": "code",
   "execution_count": 27,
   "id": "de6e11c8",
   "metadata": {},
   "outputs": [],
   "source": [
    "import datetime\n",
    "from datetime import timedelta\n",
    "from datetime import datetime"
   ]
  },
  {
   "cell_type": "markdown",
   "id": "f4b55d8f",
   "metadata": {},
   "source": [
    "# bobbymgsk"
   ]
  },
  {
   "cell_type": "code",
   "execution_count": 242,
   "id": "cead0903",
   "metadata": {},
   "outputs": [],
   "source": [
    "def parse_bobby_to_soup():\n",
    "    all_pages = \"\"\n",
    "    for page in range(1,150):\n",
    "        url = f'https://bobbymgsk.wordpress.com/category/family-feud/page/{page}/'\n",
    "        try:\n",
    "            time.sleep(5*random.random())\n",
    "            page = requests.get(url)\n",
    "            all_pages += page.text\n",
    "        except:\n",
    "            pass\n",
    "        \n",
    "    \n",
    "    soup = BeautifulSoup(all_pages, 'html.parser')\n",
    "    \n",
    "    return soup"
   ]
  },
  {
   "cell_type": "code",
   "execution_count": null,
   "id": "9e9da322",
   "metadata": {
    "scrolled": true
   },
   "outputs": [],
   "source": [
    "soup = parse_bobby_to_soup()"
   ]
  },
  {
   "cell_type": "markdown",
   "id": "c916ed18",
   "metadata": {},
   "source": [
    "## Posts"
   ]
  },
  {
   "cell_type": "code",
   "execution_count": 235,
   "id": "51704fce",
   "metadata": {},
   "outputs": [
    {
     "data": {
      "text/plain": [
       "1"
      ]
     },
     "execution_count": 235,
     "metadata": {},
     "output_type": "execute_result"
    }
   ],
   "source": [
    "# Get list of posts (most posts contain two episodes)\n",
    "# Number of posts is 1260 as of 12/29/2022\n",
    "posts = soup.find_all(\"div\", {\"class\": \"post\"})\n",
    "len(posts)"
   ]
  },
  {
   "cell_type": "code",
   "execution_count": 140,
   "id": "66f8ebef",
   "metadata": {},
   "outputs": [],
   "source": [
    "def get_post_version(title):\n",
    "    if title:\n",
    "        return \"Celebrity\" if \"Celebrity\" in title else \"Standard\"\n",
    "    return None"
   ]
  },
  {
   "cell_type": "code",
   "execution_count": 179,
   "id": "e941da5c",
   "metadata": {},
   "outputs": [],
   "source": [
    "posts_list = []\n",
    "for post in posts:\n",
    "#     postTitle = post.find(\"h3\").text\n",
    "#     postText = post.get_text()\n",
    "#     postHTML = post\n",
    "#     postVersion = get_post_version(postTitle)\n",
    "#     posts_list.append([postTitle, postHTML, postText, postVersion])\n",
    "    a_tags = post.find_all('a', href=True)\n",
    "    for a in a_tags:\n",
    "        href = a['href']\n",
    "        if 'category' not in href and 'xmlrpc' not in href:\n",
    "            posts_list.append(href)\n",
    "            break\n",
    "    \n",
    "posts_list.reverse()"
   ]
  },
  {
   "cell_type": "code",
   "execution_count": 181,
   "id": "4b46a3bb",
   "metadata": {},
   "outputs": [
    {
     "data": {
      "text/plain": [
       "1272"
      ]
     },
     "execution_count": 181,
     "metadata": {},
     "output_type": "execute_result"
    }
   ],
   "source": [
    "len(posts_list)"
   ]
  },
  {
   "cell_type": "code",
   "execution_count": 182,
   "id": "8c8c3d08",
   "metadata": {},
   "outputs": [],
   "source": [
    "posts = pd.DataFrame(posts_list, columns=['PostURL'])\n",
    "posts['PostID'] = posts.index+1\n",
    "posts = posts[['PostID','PostURL']]\n",
    "posts = posts.drop_duplicates()"
   ]
  },
  {
   "cell_type": "code",
   "execution_count": 180,
   "id": "eb13d2f8",
   "metadata": {},
   "outputs": [
    {
     "data": {
      "text/plain": [
       "['https://bobbymgsk.wordpress.com/2016/01/19/family-feud-118/',\n",
       " 'https://bobbymgsk.wordpress.com/2016/01/20/family-feud-119/',\n",
       " 'https://bobbymgsk.wordpress.com/2016/01/21/family-feud-12016/',\n",
       " 'https://bobbymgsk.wordpress.com/2016/01/21/family-feud-121/',\n",
       " 'https://bobbymgsk.wordpress.com/2016/01/26/family-feud-12516/',\n",
       " 'https://bobbymgsk.wordpress.com/2016/01/27/family-feud-12616/',\n",
       " 'https://bobbymgsk.wordpress.com/2016/01/28/family-feud-12716/',\n",
       " 'https://bobbymgsk.wordpress.com/2016/01/29/family-feud-12816/',\n",
       " 'https://bobbymgsk.wordpress.com/2016/01/29/family-feud-12916/',\n",
       " 'https://bobbymgsk.wordpress.com/2016/02/02/family-feud-2116/']"
      ]
     },
     "execution_count": 180,
     "metadata": {},
     "output_type": "execute_result"
    }
   ],
   "source": [
    "posts_list[0:10]"
   ]
  },
  {
   "cell_type": "code",
   "execution_count": null,
   "id": "86cb89b2",
   "metadata": {},
   "outputs": [],
   "source": [
    "# posts = pd.DataFrame(posts_list, columns=['PostTitle','PostHTML','PostText','PostVersion'])\n",
    "# posts['PostID'] = posts.index+1\n",
    "# posts = posts[['PostID','PostTitle','PostHTML','PostText','PostVersion']]\n",
    "# posts = posts.drop_duplicates()"
   ]
  },
  {
   "cell_type": "code",
   "execution_count": 183,
   "id": "b96dedda",
   "metadata": {
    "scrolled": false
   },
   "outputs": [
    {
     "data": {
      "text/html": [
       "<div>\n",
       "<style scoped>\n",
       "    .dataframe tbody tr th:only-of-type {\n",
       "        vertical-align: middle;\n",
       "    }\n",
       "\n",
       "    .dataframe tbody tr th {\n",
       "        vertical-align: top;\n",
       "    }\n",
       "\n",
       "    .dataframe thead th {\n",
       "        text-align: right;\n",
       "    }\n",
       "</style>\n",
       "<table border=\"1\" class=\"dataframe\">\n",
       "  <thead>\n",
       "    <tr style=\"text-align: right;\">\n",
       "      <th></th>\n",
       "      <th>PostID</th>\n",
       "      <th>PostURL</th>\n",
       "    </tr>\n",
       "  </thead>\n",
       "  <tbody>\n",
       "    <tr>\n",
       "      <th>0</th>\n",
       "      <td>1</td>\n",
       "      <td>https://bobbymgsk.wordpress.com/2016/01/19/fam...</td>\n",
       "    </tr>\n",
       "    <tr>\n",
       "      <th>1</th>\n",
       "      <td>2</td>\n",
       "      <td>https://bobbymgsk.wordpress.com/2016/01/20/fam...</td>\n",
       "    </tr>\n",
       "    <tr>\n",
       "      <th>2</th>\n",
       "      <td>3</td>\n",
       "      <td>https://bobbymgsk.wordpress.com/2016/01/21/fam...</td>\n",
       "    </tr>\n",
       "    <tr>\n",
       "      <th>3</th>\n",
       "      <td>4</td>\n",
       "      <td>https://bobbymgsk.wordpress.com/2016/01/21/fam...</td>\n",
       "    </tr>\n",
       "    <tr>\n",
       "      <th>4</th>\n",
       "      <td>5</td>\n",
       "      <td>https://bobbymgsk.wordpress.com/2016/01/26/fam...</td>\n",
       "    </tr>\n",
       "  </tbody>\n",
       "</table>\n",
       "</div>"
      ],
      "text/plain": [
       "   PostID                                            PostURL\n",
       "0       1  https://bobbymgsk.wordpress.com/2016/01/19/fam...\n",
       "1       2  https://bobbymgsk.wordpress.com/2016/01/20/fam...\n",
       "2       3  https://bobbymgsk.wordpress.com/2016/01/21/fam...\n",
       "3       4  https://bobbymgsk.wordpress.com/2016/01/21/fam...\n",
       "4       5  https://bobbymgsk.wordpress.com/2016/01/26/fam..."
      ]
     },
     "execution_count": 183,
     "metadata": {},
     "output_type": "execute_result"
    }
   ],
   "source": [
    "posts.head()"
   ]
  },
  {
   "cell_type": "code",
   "execution_count": 145,
   "id": "3ebea656",
   "metadata": {},
   "outputs": [],
   "source": [
    "posts_ = pd.merge(posts, b24[['PostTitle','PostDate']].drop_duplicates(), left_on='PostTitle', right_on='PostTitle', how=\"left\")\n",
    "posts_ = posts_.drop_duplicates()"
   ]
  },
  {
   "cell_type": "code",
   "execution_count": 146,
   "id": "686d4735",
   "metadata": {},
   "outputs": [],
   "source": [
    "posts_ = posts_[['PostID','PostTitle','PostDate','PostHTML','PostText','PostVersion']]\n",
    "posts_.columns = ['PostID','PostTitle','PostDate','PostHTML','PostText','PostVersion']"
   ]
  },
  {
   "cell_type": "code",
   "execution_count": 184,
   "id": "d4c8b117",
   "metadata": {},
   "outputs": [],
   "source": [
    "posts.to_csv('post_urls.csv', index=False)"
   ]
  },
  {
   "cell_type": "code",
   "execution_count": 148,
   "id": "4d9fda9f",
   "metadata": {},
   "outputs": [
    {
     "data": {
      "text/plain": [
       "1272"
      ]
     },
     "execution_count": 148,
     "metadata": {},
     "output_type": "execute_result"
    }
   ],
   "source": [
    "len(posts_)"
   ]
  },
  {
   "cell_type": "markdown",
   "id": "612a19e3",
   "metadata": {},
   "source": [
    "## Post Comments"
   ]
  },
  {
   "cell_type": "code",
   "execution_count": 216,
   "id": "7731b2a8",
   "metadata": {},
   "outputs": [],
   "source": [
    "fct_post = pd.read_csv('fct_post.csv')"
   ]
  },
  {
   "cell_type": "code",
   "execution_count": null,
   "id": "cc49d956",
   "metadata": {
    "scrolled": false
   },
   "outputs": [],
   "source": [
    "comment_list = []\n",
    "for index, row in fct_post.iterrows():\n",
    "    time.sleep(3*random.random())\n",
    "    url = row['PostURL']\n",
    "    page = requests.get(url)\n",
    "    soup = BeautifulSoup(page.text, 'html.parser')\n",
    "    \n",
    "    comment_author = [author.text.replace('\\n','').replace(' said:','') for author in soup.find_all(\"div\", {\"class\": \"comment-author\"})]\n",
    "    comment_text = [comment.find('p').text for comment in soup.find_all(\"div\", {\"class\": \"commentText\"})]\n",
    "    comment_date = [comment.find('a').text for comment in soup.find_all(\"div\", {\"class\": \"commentDate\"})]\n",
    "    \n",
    "    \n",
    "    for i in range(len(comment_author)):\n",
    "        comment_list.append([row['PostID'], i+1, comment_author[i], comment_text[i], comment_date[i]])"
   ]
  },
  {
   "cell_type": "code",
   "execution_count": 236,
   "id": "686d1a01",
   "metadata": {},
   "outputs": [],
   "source": [
    "comms = pd.DataFrame(comment_list, columns = ['PostID','CommentOrder','Author','Comment','CommentDate'])\n",
    "comms['CommentID'] = comms.index+1\n",
    "comms = comms[['CommentID','PostID','CommentOrder','Author','Comment','CommentDate']]"
   ]
  },
  {
   "cell_type": "code",
   "execution_count": 241,
   "id": "c55df431",
   "metadata": {},
   "outputs": [],
   "source": [
    "fct_comment = comms[['CommentID','PostID','CommentOrder','Author','Comment']]\n",
    "fct_comment_date = comms[['CommentID','CommentDate']]\n",
    "\n",
    "fct_comment.to_csv('fct_comment.csv', index=False)\n",
    "fct_comment_date.to_csv('fct_comment_date.csv', index=False)"
   ]
  },
  {
   "cell_type": "markdown",
   "id": "ffb9227c",
   "metadata": {},
   "source": [
    "## Games"
   ]
  },
  {
   "cell_type": "code",
   "execution_count": null,
   "id": "6c6c49e9",
   "metadata": {},
   "outputs": [],
   "source": [
    "# Games can start with random titles ...yay... \n",
    "# the following list of titles each designate a new game\n",
    "with open(\"game_titles.txt\", \"r\", encoding=\"UTF-8\") as f:\n",
    "    game_titles = [x.strip().replace('\"', '') for x in f.readlines()]\n",
    "    \n",
    "game_titles[0:10];"
   ]
  },
  {
   "cell_type": "markdown",
   "id": "df6e6041",
   "metadata": {},
   "source": [
    "### Display post that have more fast money rounds than game titles\n",
    "There is a fast money in every game, so this is effectively checking if the number of game titles matches the number of games. For example, some rematchs don't have a game title, those are some of what appears below"
   ]
  },
  {
   "cell_type": "code",
   "execution_count": null,
   "id": "d6136978",
   "metadata": {
    "scrolled": false
   },
   "outputs": [],
   "source": [
    "for post in posts: \n",
    "    # Keep track of the number of fast money's per post\n",
    "    # Since every game has a fast money (and they are all denoted with \"FM:\"), we can use this to\n",
    "    # track which games are missing crucial information, like a title or family list\n",
    "    fastmoney_count = 0\n",
    "    \n",
    "    # keep track of each game\n",
    "    games = []\n",
    "    \n",
    "    games.append(post.find('a', href=True).text)\n",
    "\n",
    "    p_tags = post.find_all('p')\n",
    "    for p_tag in p_tags:\n",
    "        if 'FM:' in p_tag.text:\n",
    "            fastmoney_count += 1\n",
    "        if bool([ele for ele in game_titles if(ele in p_tag.text)]):\n",
    "            games.append(p_tag.text)\n",
    "            \n",
    "    if len(games) < fastmoney_count+1:\n",
    "        for d in games: print(d)"
   ]
  },
  {
   "cell_type": "markdown",
   "id": "915119fd",
   "metadata": {},
   "source": [
    "### CREATE A DATAFRAME OF FAMILY FEUD GAMES, HALLELUJAH!!"
   ]
  },
  {
   "cell_type": "code",
   "execution_count": null,
   "id": "cbf6129e",
   "metadata": {
    "scrolled": false
   },
   "outputs": [],
   "source": [
    "game_count = 0\n",
    "all_games = []\n",
    "\n",
    "for post in posts:\n",
    "    \n",
    "    post_title = post.find('a', href=True).text\n",
    "    game_text = \"\"\n",
    "    game_html = \"\"\n",
    "    \n",
    "    def new_game(p_tag):\n",
    "        return bool([ele for ele in game_titles if(ele in p_tag.text)])\n",
    "    \n",
    "    for p_tag in post.find_all('p'):\n",
    "        if new_game(p_tag):\n",
    "            if len(game_text) > 0:\n",
    "                all_games.append([post_title, game_text, game_html])\n",
    "            game_text = p_tag.text\n",
    "            game_html = str(p_tag)\n",
    "        else:\n",
    "            if len(p_tag.text) > 0 : \n",
    "                game_text += ' || ' + p_tag.text\n",
    "                game_html += ' || ' + str(p_tag)\n",
    "    if len(game_text) > 0:\n",
    "        all_games.append([post_title, game_text, game_html])"
   ]
  },
  {
   "cell_type": "code",
   "execution_count": null,
   "id": "e25f2071",
   "metadata": {},
   "outputs": [],
   "source": [
    "df = pd.DataFrame(all_games, columns = ['PostTitle','GameText','GameHTML'])\n",
    "\n",
    "df = df.replace(\"Lewises v. Days\", \"Miles v. Days\", regex=True)"
   ]
  },
  {
   "cell_type": "code",
   "execution_count": null,
   "id": "eddcda8d",
   "metadata": {},
   "outputs": [],
   "source": [
    "def get_post_date(post_title):\n",
    "    try:\n",
    "        dates = datefinder.find_dates(post_title)\n",
    "        return next(dates)\n",
    "    except:\n",
    "        return \"\"\n",
    "\n",
    "def get_post_version(title):\n",
    "    if \"Celebrity\" in title:\n",
    "        return \"Celebrity\"\n",
    "    else:\n",
    "        return \"Standard\"\n",
    "    \n",
    "def get_game_title(game_text):\n",
    "    for p_text in game_text.split('||'):\n",
    "        if bool([ele for ele in game_titles if(ele in p_text)]):\n",
    "            game_title = p_text\n",
    "            return game_title\n",
    "        \n",
    "def get_family_info(title, fam_num):\n",
    "    try:\n",
    "        title = title.split(':')[1]\n",
    "        family = re.split(' v. | v | vs. | vs ', title)[fam_num]\n",
    "    except:\n",
    "        family = \"\"\n",
    "        \n",
    "    for g in game_titles:\n",
    "        family = family.replace(g,'').replace(':','').strip()\n",
    "    family = family.replace('(','$$@(').split('$$@')\n",
    "    name = family[0]\n",
    "#     info = family[1:]\n",
    "    return name"
   ]
  },
  {
   "cell_type": "code",
   "execution_count": null,
   "id": "261687f0",
   "metadata": {},
   "outputs": [],
   "source": [
    "df['PostVersion'] = df['PostTitle'].apply(get_post_version)\n",
    "df['PostDate'] = df['PostTitle'].apply(get_post_date)\n",
    "df['GameTitle'] = df['GameText'].apply(get_game_title)\n",
    "df['FamilyA_p'] = df['GameTitle'].apply(lambda x: get_family_info(x, 0))\n",
    "df['FamilyB_p'] = df['GameTitle'].apply(lambda x: get_family_info(x, 1))"
   ]
  },
  {
   "cell_type": "code",
   "execution_count": null,
   "id": "b16670cb",
   "metadata": {},
   "outputs": [],
   "source": [
    "df = (df.fillna(\"\")\n",
    "    .apply(lambda x: x.str.strip() if x.dtype == \"object\" else x)  \n",
    "    .replace(\"’\", \"'\", regex=True))"
   ]
  },
  {
   "cell_type": "markdown",
   "id": "e6b72591",
   "metadata": {},
   "source": [
    "### Replace typos from Bobby\n",
    "Determined by comparison from Trakt titles, mostly confirmed via video clips. Why does he do plural last names? Agh!"
   ]
  },
  {
   "cell_type": "code",
   "execution_count": null,
   "id": "fb689ffc",
   "metadata": {},
   "outputs": [],
   "source": [
    "def replace_typos_bobbymgsk(df):\n",
    "    replacements = (('Crovetttos','Crovettos'),\n",
    "        ('Collingsworth','Hollingsworth'),\n",
    "        ('Aladenoyers','Aladenoyes'),\n",
    "        ('McLards','McClards'),\n",
    "        ('Olszweski','Olszewski'),\n",
    "        ('McLards','McClards'),\n",
    "        ('Hlaseses','Hlases'),\n",
    "        ('Cartotenutos','Carotenutos'),\n",
    "        ('Boulhac','Roulhac'),\n",
    "        ('Coanses','Coans'),\n",
    "        ('Chesnut','Chestnut'),\n",
    "        ('Keningsbergs','Kenigsberg'),\n",
    "        ('Mokiaoses','Mokiaos'),\n",
    "        ('Iaintellos','Ianitellos')\n",
    "    )\n",
    "\n",
    "    for r in replacements:\n",
    "        df = df.replace(r[0],r[1],regex=True)\n",
    "        \n",
    "    return df\n",
    "\n",
    "df = replace_typos_bobbymgsk(df)"
   ]
  },
  {
   "cell_type": "markdown",
   "id": "373df1c9",
   "metadata": {},
   "source": [
    "### De-pluralize family names"
   ]
  },
  {
   "cell_type": "code",
   "execution_count": null,
   "id": "34ad554d",
   "metadata": {},
   "outputs": [],
   "source": [
    "def depluralize_family(name):\n",
    "    df_trakt = pd.read_pickle(\"pickles/df_trakt.pkl\")\n",
    "    trakt_names = [t.strip() for t in list(df_trakt.FamilyA) + list(df_trakt.FamilyB) if len(t.strip())>0]\n",
    "    trakt_names_ending_e = list(set([t for t in trakt_names if t[-1] == 'e']))\n",
    "\n",
    "    try:\n",
    "        name = name.strip()\n",
    "        if name in ['Wis']:\n",
    "            return name\n",
    "        if (name[-2:] == 'es') and (name[:-1] in trakt_names_ending_e):\n",
    "            return name[:-1] \n",
    "        if name[-2:] == 'es':\n",
    "            return name[:-2]\n",
    "        elif name[-1] == 's':\n",
    "            return name[:-1]\n",
    "        else:\n",
    "            return name\n",
    "    except:\n",
    "        return name\n",
    "\n",
    "df['FamilyA'] = df['FamilyA_p'].apply(depluralize_family)\n",
    "df['FamilyB'] = df['FamilyB_p'].apply(depluralize_family)"
   ]
  },
  {
   "cell_type": "markdown",
   "id": "e52bb36a",
   "metadata": {},
   "source": [
    "### Overwrites"
   ]
  },
  {
   "cell_type": "code",
   "execution_count": null,
   "id": "be8f1a41",
   "metadata": {
    "scrolled": false
   },
   "outputs": [],
   "source": [
    "game_overwrites = pd.read_csv(\"game_overwrites.csv\", names=['PostTitle','GameTitle','FamilyA','FamilyB','FamilyA_p','FamilyB_p']).fillna(\"\")\n",
    "game_overwrites = game_overwrites.replace('\"F','“F',regex=True).replace('d\"','d”',regex=True)"
   ]
  },
  {
   "cell_type": "code",
   "execution_count": null,
   "id": "4d02d3ee",
   "metadata": {},
   "outputs": [],
   "source": [
    "df['Overwritten'] = 0"
   ]
  },
  {
   "cell_type": "code",
   "execution_count": null,
   "id": "3137cc83",
   "metadata": {
    "scrolled": true
   },
   "outputs": [],
   "source": [
    "for overwrite_index, overwrite_row in game_overwrites.iterrows():\n",
    "    games_by_post = df[df['PostTitle'] == overwrite_row['PostTitle']]\n",
    "    for game_index, game_row in games_by_post.iterrows():\n",
    "        if overwrite_row['FamilyA'] in game_row['GameText']:\n",
    "            pairs = [['Overwritten', 1],\n",
    "                 ['FamilyA',     overwrite_row['FamilyA']],\n",
    "                 ['FamilyB',     overwrite_row['FamilyB']],\n",
    "                 ['FamilyA_p',   overwrite_row['FamilyA_p']],\n",
    "                 ['FamilyB_p',   overwrite_row['FamilyB_p']]]\n",
    "            for pair in pairs:\n",
    "                df.loc[(df['PostTitle'] == game_row['PostTitle']) &\n",
    "                       (df['GameTitle'] == game_row['GameTitle']), pair[0]] = pair[1]"
   ]
  },
  {
   "cell_type": "markdown",
   "id": "6193439c",
   "metadata": {},
   "source": [
    "### Pre-made Bobby Assignments"
   ]
  },
  {
   "cell_type": "code",
   "execution_count": null,
   "id": "9f4bf87f",
   "metadata": {},
   "outputs": [],
   "source": [
    "bobby_assignments = pd.read_csv('bobby_assignments.csv', encoding=\"windows-1252\", names=['SeasonNum','EpisodeNum','FamilyA','FamilyB','PostTitle'])\n",
    "\n",
    "bobby_assignments['FamilyA'] = bobby_assignments['FamilyA'].str.strip()\n",
    "bobby_assignments['FamilyB'] = bobby_assignments['FamilyB'].str.strip()"
   ]
  },
  {
   "cell_type": "code",
   "execution_count": null,
   "id": "49a69121",
   "metadata": {},
   "outputs": [],
   "source": [
    "def match_to_assignment(df_row, typ):\n",
    "    \n",
    "    title = df_row['PostTitle']\n",
    "\n",
    "    a = pd.DataFrame(df_row)\n",
    "    b = bobby_assignments[bobby_assignments['PostTitle'] == title]\n",
    "\n",
    "    for ib, row_b in b.iterrows():\n",
    "        if (row_b['FamilyA'] in df_row['GameText']) and (row_b['FamilyB'] in df_row['GameText']):\n",
    "            if typ == 'Season':\n",
    "                return row_b['SeasonNum']\n",
    "            else:\n",
    "                return row_b['EpisodeNum']"
   ]
  },
  {
   "cell_type": "code",
   "execution_count": null,
   "id": "c1580379",
   "metadata": {},
   "outputs": [],
   "source": [
    "df['EpisodeNum'] = df.apply(lambda x: match_to_assignment(x, 'Episode'), axis=1)\n",
    "df['SeasonNum'] = df.apply(lambda x: match_to_assignment(x, 'Season'), axis=1)"
   ]
  },
  {
   "cell_type": "code",
   "execution_count": null,
   "id": "01317de2",
   "metadata": {
    "scrolled": false
   },
   "outputs": [],
   "source": [
    "df.loc[(df['PostDate'] >= '2010-09-01') & (df['PostDate'] <= '2011-08-01'), 'SeasonNum'] = 12\n",
    "df.loc[(df['PostDate'] >= '2011-09-01') & (df['PostDate'] <= '2012-08-01'), 'SeasonNum'] = 13"
   ]
  },
  {
   "cell_type": "code",
   "execution_count": null,
   "id": "8f235dca",
   "metadata": {},
   "outputs": [],
   "source": [
    "df[df.PostVersion == 'Standard'].to_csv('df.csv')"
   ]
  },
  {
   "cell_type": "code",
   "execution_count": null,
   "id": "c5909896",
   "metadata": {},
   "outputs": [],
   "source": []
  },
  {
   "cell_type": "markdown",
   "id": "3640bb17",
   "metadata": {},
   "source": [
    "<span>-------------------------------------------------------------------------------------------------------------------------------------------------------\n"
   ]
  },
  {
   "cell_type": "markdown",
   "id": "24eca892",
   "metadata": {},
   "source": [
    "<span>-------------------------------------------------------------------------------------------------------------------------------------------------------\n"
   ]
  },
  {
   "cell_type": "code",
   "execution_count": null,
   "id": "6cee1213",
   "metadata": {},
   "outputs": [],
   "source": [
    "benchmark = pd.read_csv('benchmark.csv')\n",
    "\n",
    "# Forgot suddenn death (SD) smh...\n",
    "split_string = '(R1|R2|\\|\\| Double|\\|\\| DOUBLE|Double:|\\|\\| Triple|\\|\\| TRIPLE|TRIPLE:|FM|Unsaid #1)'\n",
    "question_split = benchmark['GameText'].str.split(split_string, expand=True)\n",
    "benchmark1 = pd.concat([benchmark, question_split], axis=1)\n",
    "benchmark1.to_csv('benchmark1.csv', index=False)"
   ]
  },
  {
   "cell_type": "code",
   "execution_count": null,
   "id": "621be95d",
   "metadata": {},
   "outputs": [],
   "source": [
    "benchmark2 = pd.read_csv('benchmark2.csv')\n",
    "\n",
    "split_string = '(SD)'\n",
    "sd_split = benchmark2['8'].str.split(split_string, expand=True)\n",
    "benchmark3 = pd.concat([benchmark2, sd_split], axis=1)\n",
    "benchmark3.to_csv('benchmark3.csv', index=False)"
   ]
  },
  {
   "cell_type": "code",
   "execution_count": null,
   "id": "2c6bbb41",
   "metadata": {},
   "outputs": [],
   "source": [
    "benchmark4 = pd.read_csv('benchmark4.csv')"
   ]
  },
  {
   "cell_type": "code",
   "execution_count": null,
   "id": "b5c8b88b",
   "metadata": {},
   "outputs": [],
   "source": [
    "split_string = '(#1)'\n",
    "r1_split = benchmark4['QS_Round1Text'].str.split(split_string, 1, expand=True)\n",
    "r2_split = benchmark4['QS_Round2Text'].str.split(split_string, 1, expand=True)\n",
    "r3_split = benchmark4['QS_DoubleText'].str.split(split_string, 1, expand=True)\n",
    "r4_split = benchmark4['QS_TripleText'].str.split(split_string, 1, expand=True)\n",
    "\n",
    "benchmark5 = pd.concat([benchmark4, r1_split, r2_split, r3_split, r4_split], axis=1)\n",
    "benchmark5.to_csv('benchmark5.csv', index=False)"
   ]
  },
  {
   "cell_type": "code",
   "execution_count": null,
   "id": "bcb0a59f",
   "metadata": {},
   "outputs": [],
   "source": [
    "benchmark6 = pd.read_csv('benchmark6.csv')\n",
    "\n",
    "def getNumOfAnswers(answerText):\n",
    "    for i in range(8,-1,-1):\n",
    "        if f\"#{i}\" in str(answerText) or f\"# {i}\" in str(answerText):\n",
    "            return i\n",
    "    return 0\n",
    "\n",
    "benchmark6['QS_Round1A_NumAnswers'] = benchmark6['QS_Round1A'].apply(getNumOfAnswers)\n",
    "benchmark6['QS_Round2A_NumAnswers'] = benchmark6['QS_Round2A'].apply(getNumOfAnswers)\n",
    "benchmark6['QS_DoubleA_NumAnswers'] = benchmark6['QS_DoubleA'].apply(getNumOfAnswers)\n",
    "benchmark6['QS_TripleA_NumAnswers'] = benchmark6['QS_TripleA'].apply(getNumOfAnswers)\n",
    "\n",
    "benchmark6['QS_TripleA_NumAnswers'].value_counts().sort_index()\n",
    "\n",
    "benchmark6[benchmark6['QS_TripleA_NumAnswers'] < 4]"
   ]
  },
  {
   "cell_type": "code",
   "execution_count": null,
   "id": "7425dd44",
   "metadata": {},
   "outputs": [],
   "source": [
    "benchmark7 = pd.read_csv('benchmark7.csv')\n",
    "\n",
    "benchmark7['QS_SuddenDeathFullText'] = (benchmark7['QS_SuddenDeathFullText']\n",
    "    .str.replace('?','?##')\n",
    "    .str.replace('.','.##')\n",
    "    .str.replace('_\\n','_\\n##'))\n",
    "# benchmark7['QS_SuddenDeathFullText'][0]\n",
    "sd_split = benchmark7['QS_SuddenDeathFullText'].str.split('##', 1, expand=True)\n",
    "\n",
    "sd_split.columns = ['A','B']\n",
    "sd_split[(sd_split['A'].notnull()) & (sd_split['B'].isnull())]"
   ]
  },
  {
   "cell_type": "code",
   "execution_count": null,
   "id": "1069cfa5",
   "metadata": {},
   "outputs": [],
   "source": [
    "benchmark8 = pd.concat([benchmark7, sd_split], axis=1)\n",
    "benchmark8.to_csv('benchmark8.csv', index=False)"
   ]
  },
  {
   "cell_type": "code",
   "execution_count": null,
   "id": "dfa870f2",
   "metadata": {},
   "outputs": [],
   "source": [
    "benchmark9 = pd.read_csv('benchmark9.csv')\n",
    "\n",
    "split_string = '(\\n#1|#1|#2|#3|#4|#5)'\n",
    "fm_split = benchmark9['QS_FastMoneyFullText'].str.split(split_string, 5, expand=True)\n",
    "\n",
    "benchmark10 = pd.concat([benchmark9, fm_split], axis=1)\n",
    "benchmark10.to_csv('benchmark10.csv', index=False)"
   ]
  },
  {
   "cell_type": "code",
   "execution_count": null,
   "id": "9f9829a1",
   "metadata": {},
   "outputs": [],
   "source": [
    "benchmark11 = pd.read_csv('benchmark11.csv')\n",
    "split_string = '\\|\\|'\n",
    "fm_split = benchmark11['QS_FastMoney_Q5'].str.split(split_string, 1, expand=True)\n",
    "benchmark12 = pd.concat([benchmark11, fm_split], axis=1)\n",
    "benchmark12.to_csv('benchmark12.csv', index=False)"
   ]
  },
  {
   "cell_type": "code",
   "execution_count": null,
   "id": "89d2f8cc",
   "metadata": {},
   "outputs": [],
   "source": [
    "benchmark12 = pd.read_csv('benchmark12.csv')\n",
    "split_string = ':'\n",
    "game_header = benchmark11['GameTitle'].str.split(':', 1, expand=True)[0]\n",
    "both_familes_title = benchmark11['GameTitle'].str.split(':', 1, expand=True)[1]\n",
    "\n",
    "benchmark13 = pd.concat([benchmark12, game_header, both_familes_title], axis=1)\n",
    "benchmark13.to_csv('benchmark13.csv', index=False)"
   ]
  },
  {
   "cell_type": "code",
   "execution_count": null,
   "id": "67bb9770",
   "metadata": {},
   "outputs": [],
   "source": [
    "benchmark13 = pd.read_csv('benchmark13.csv')\n",
    "split_string = ' vs | vs.| v | v.'\n",
    "family_split = benchmark13['QS_FamiliesFull'].str.split(split_string, 1, expand=True)\n",
    "\n",
    "benchmark14 = pd.concat([benchmark13, family_split], axis=1)\n",
    "benchmark14.to_csv('benchmark14.csv', index=False)"
   ]
  },
  {
   "cell_type": "code",
   "execution_count": null,
   "id": "214df470",
   "metadata": {},
   "outputs": [],
   "source": [
    "benchmark14 = pd.read_csv('benchmark14.csv')\n",
    "\n",
    "split_string = '('\n",
    "familyA_split = benchmark14['QS_FamilyAFull'].str.split(split_string, 1, expand=True)\n",
    "familyB_split = benchmark14['QS_FamilyBFull'].str.split(split_string, 1, expand=True)\n",
    "\n",
    "benchmark15 = pd.concat([benchmark14, familyA_split, familyB_split], axis=1)\n",
    "benchmark15.to_csv('benchmark15.csv', index=False)"
   ]
  },
  {
   "cell_type": "code",
   "execution_count": null,
   "id": "850e19c1",
   "metadata": {
    "scrolled": true
   },
   "outputs": [],
   "source": [
    "split_string = '('\n",
    "familyA_split = benchmark14['QS_FamilyAFull'].str.split(split_string, 1, expand=True)\n",
    "familyB_split = benchmark14['QS_FamilyBFull'].str.split(split_string, 1, expand=True)\n",
    "\n",
    "benchmark15 = pd.concat([benchmark14, familyA_split, familyB_split], axis=1)\n",
    "benchmark15.to_csv('benchmark15.csv', index=False)"
   ]
  },
  {
   "cell_type": "code",
   "execution_count": null,
   "id": "88252dba",
   "metadata": {},
   "outputs": [],
   "source": [
    "benchmark15 = pd.read_csv('benchmark15.csv')\n",
    "\n",
    "for col in benchmark15.columns:\n",
    "    try:\n",
    "        benchmark15[col] = benchmark15[col].str.strip()\n",
    "    except:\n",
    "        pass\n",
    "    \n",
    "benchmark15.to_csv('b16.csv', index=False)"
   ]
  },
  {
   "cell_type": "code",
   "execution_count": null,
   "id": "e42ba07e",
   "metadata": {},
   "outputs": [],
   "source": [
    "b16 = pd.read_csv('b16.csv')\n",
    "b17 = b16\n",
    "for letter in ['A','B']:\n",
    "    fam_info_list = list(b16[f'QS_Family{letter}_Info'].str.split('\\)|\\('))\n",
    "    fam_info_list = [fam_info_part if type(fam_info_part) == list else [] for fam_info_part in fam_info_list]\n",
    "    \n",
    "    def fam_info_sort(text):\n",
    "        return -1*len(text.split(','))\n",
    "\n",
    "    fam_info_list_sorted = [sorted(lis, key=fam_info_sort) for lis in fam_info_list]\n",
    "    fam_info_list_sorted = [[li for li in lis if len(li)>0] for lis in fam_info_list_sorted]\n",
    "    \n",
    "    fam_info_df = pd.DataFrame(fam_info_list_sorted)\n",
    "    \n",
    "    b17 = pd.concat([b17, fam_info_df], axis=1)\n",
    "\n",
    "b17.to_csv('b17.csv', index=False)"
   ]
  },
  {
   "cell_type": "code",
   "execution_count": null,
   "id": "b283849e",
   "metadata": {},
   "outputs": [],
   "source": [
    "b18 = pd.read_csv('b18.csv')\n",
    "\n",
    "A = b18[['FamilyA','PostDate','GameID']]\n",
    "A.columns = ['Family','PostDate','GameID']\n",
    "\n",
    "B = b18[['FamilyB','PostDate','GameID']]\n",
    "B.columns = ['Family','PostDate','GameID']\n",
    "\n",
    "fam_dates = pd.concat([A, B], axis=0)\n",
    "fam_dates['ID'] = np.nan\n",
    "fam_dates['PostDate'] = pd.to_datetime(fam_dates['PostDate'], errors='coerce')\n",
    "\n",
    "fam_dates = fam_dates.sort_values(by=['PostDate','GameID']).reset_index(drop=True)\n",
    "fam_dates['PostDate'] = pd.to_datetime(fam_dates['PostDate'], errors='coerce')\n",
    "\n",
    "b18['FamilyAID'] = np.nan\n",
    "b18['FamilyBID'] = np.nan\n",
    "\n",
    "\n",
    "window = 14 # days to consider the family the same\n",
    "current_id = 1\n",
    "for ind, row in fam_dates.iterrows():\n",
    "    prev_games = fam_dates[(row['Family'] == fam_dates['Family']) & (fam_dates['PostDate'] >= row['PostDate'] - timedelta(days=window)) & (fam_dates['PostDate'] <= row['PostDate'])]\n",
    "    if len(prev_games) == 1:\n",
    "        fam_dates.loc[ind,'ID'] = current_id\n",
    "        current_id+=1\n",
    "    else:\n",
    "        fam_dates.loc[ind,'ID'] = prev_games.iloc[0,2]\n",
    "\n",
    "b18['PostDate'] = pd.to_datetime(b18['PostDate'], errors='coerce')\n",
    "b19 = pd.merge(b18, fam_dates, left_on=['FamilyA', 'PostDate'], right_on=['Family','PostDate'])\n",
    "b19 = pd.merge(b19, fam_dates, left_on=['FamilyB', 'PostDate'], right_on=['Family','PostDate'])\n",
    "\n",
    "b19.to_csv('b19.csv', index=False)"
   ]
  },
  {
   "cell_type": "code",
   "execution_count": null,
   "id": "48c7a6ba",
   "metadata": {},
   "outputs": [],
   "source": [
    "b20 = pd.read_csv('b20.csv')\n",
    "\n",
    "A = b20[['FamilyA','PostDate','GameID']]\n",
    "A.columns = ['Family','PostDate','GameID']\n",
    "\n",
    "B = b20[['FamilyB','PostDate','GameID']]\n",
    "B.columns = ['Family','PostDate','GameID']\n",
    "\n",
    "fam_dates = pd.concat([A, B], axis=0)\n",
    "fam_dates['ID'] = np.nan\n",
    "fam_dates['PostDate'] = pd.to_datetime(fam_dates['PostDate'], errors='coerce')\n",
    "\n",
    "fam_dates = fam_dates.sort_values(by=['PostDate','GameID']).reset_index(drop=True)\n",
    "fam_dates['PostDate'] = pd.to_datetime(fam_dates['PostDate'], errors='coerce')\n",
    "\n",
    "window = 14 # days to consider the family the same\n",
    "current_id = 1\n",
    "for ind, row in fam_dates.iterrows():\n",
    "    prev_games = fam_dates[(row['Family'] == fam_dates['Family']) & (fam_dates['PostDate'] >= row['PostDate'] - timedelta(days=window)) & (fam_dates['PostDate'] <= row['PostDate'])]\n",
    "    if len(prev_games) == 1:\n",
    "        fam_dates.loc[ind,'ID'] = current_id\n",
    "        current_id+=1\n",
    "    else:\n",
    "        fam_dates.loc[ind,'ID'] = prev_games.iloc[0,3]\n",
    "\n",
    "b20['PostDate'] = pd.to_datetime(b20['PostDate'], errors='coerce')\n",
    "b21 = pd.merge(b20, fam_dates, left_on=['FamilyA', 'PostDate'], right_on=['Family','PostDate'])\n",
    "b21 = pd.merge(b21, fam_dates, left_on=['FamilyB', 'PostDate'], right_on=['Family','PostDate'])\n",
    "\n",
    "\n",
    "\n",
    "b21.to_csv('b21.csv', index=False)"
   ]
  },
  {
   "cell_type": "code",
   "execution_count": null,
   "id": "2bfc8d15",
   "metadata": {},
   "outputs": [],
   "source": [
    "b22 = pd.read_csv('b22.csv')"
   ]
  },
  {
   "cell_type": "code",
   "execution_count": null,
   "id": "fc9b70d8",
   "metadata": {},
   "outputs": [],
   "source": [
    "a = b22[['FamilyA','FamilyAID','QS_FamilyA_Names','QS_FamilyA_Location','QS_FamilyA_Notes1','QS_FamilyA_Notes2']]\n",
    "b = b22[['FamilyB','FamilyBID','QS_FamilyB_Names','QS_FamilyB_Location','QS_FamilyB_Notes1','QS_FamilyB_Notes2']]"
   ]
  },
  {
   "cell_type": "code",
   "execution_count": null,
   "id": "87f1ccca",
   "metadata": {},
   "outputs": [],
   "source": [
    "a = a.fillna(\"\")\n",
    "b = b.fillna(\"\")"
   ]
  },
  {
   "cell_type": "code",
   "execution_count": null,
   "id": "707a072d",
   "metadata": {},
   "outputs": [],
   "source": [
    "fam_dict = {}\n",
    "for ind, row in a.iterrows():\n",
    "    if row['FamilyAID'] not in fam_dict.keys():\n",
    "        fam_dict[row['FamilyAID']] = {}\n",
    "    if 'Names' not in fam_dict[row['FamilyAID']].keys() or len(fam_dict[row['FamilyAID']]['Names']) < 5:\n",
    "        fam_dict[row['FamilyAID']]['Names'] = row['QS_FamilyA_Names']\n",
    "fam_dict_a = fam_dict\n",
    "\n",
    "        \n",
    "fam_dict = {}      \n",
    "for ind, row in b.iterrows():\n",
    "    if row['FamilyBID'] not in fam_dict.keys():\n",
    "        fam_dict[row['FamilyBID']] = {}\n",
    "    if 'Names' not in fam_dict[row['FamilyBID']].keys() or len(fam_dict[row['FamilyBID']]['Names']) < 5:\n",
    "        fam_dict[row['FamilyBID']]['Names'] = row['QS_FamilyB_Names']\n",
    "fam_dict_b = fam_dict"
   ]
  },
  {
   "cell_type": "code",
   "execution_count": null,
   "id": "db8c3d43",
   "metadata": {
    "scrolled": false
   },
   "outputs": [],
   "source": [
    "# for key, value in sorted(fam_dict_b.items(), key=lambda x: x[0]): \n",
    "#     print(\"{} : {}\".format(key, value))"
   ]
  },
  {
   "cell_type": "code",
   "execution_count": null,
   "id": "36f774a8",
   "metadata": {},
   "outputs": [],
   "source": [
    "A = pd.DataFrame(fam_dict_a).T\n",
    "B = pd.DataFrame(fam_dict_b).T\n",
    "df = pd.merge(A, B, left_index=True, right_index=True, how='outer')"
   ]
  },
  {
   "cell_type": "code",
   "execution_count": null,
   "id": "6914d54f",
   "metadata": {},
   "outputs": [],
   "source": [
    "df = df.fillna(\"\")\n",
    "df['longest'] = df.apply(lambda x: x['Names_x'] if len(x['Names_x']) > len(x['Names_y']) else x['Names_y'], axis=1)"
   ]
  },
  {
   "cell_type": "code",
   "execution_count": null,
   "id": "b7800153",
   "metadata": {},
   "outputs": [],
   "source": [
    "df = df[['longest']]"
   ]
  },
  {
   "cell_type": "code",
   "execution_count": null,
   "id": "189db538",
   "metadata": {},
   "outputs": [],
   "source": [
    "df.to_csv('df.csv')"
   ]
  },
  {
   "cell_type": "code",
   "execution_count": null,
   "id": "f398fa29",
   "metadata": {},
   "outputs": [],
   "source": [
    "b22 = pd.read_csv('b22.csv')"
   ]
  },
  {
   "cell_type": "code",
   "execution_count": null,
   "id": "7a54bc3a",
   "metadata": {
    "scrolled": false
   },
   "outputs": [],
   "source": [
    "name = \"Abraham\"\n",
    "b23[((b23.FamilyA == name) | (b23.FamilyB == name))][['GameID','PostTitle','GameText','FamilyA','FamilyB','FamilyAID','FamilyBID']]\n"
   ]
  },
  {
   "cell_type": "code",
   "execution_count": null,
   "id": "2a7cab35",
   "metadata": {},
   "outputs": [],
   "source": [
    "id_ = 1936\n",
    "b23[((b23.FamilyAID == id_) | (b23.FamilyBID == id_))][['GameID','PostTitle','GameText','FamilyA','FamilyB','FamilyAID','FamilyBID']]\n"
   ]
  },
  {
   "cell_type": "code",
   "execution_count": 142,
   "id": "84deef8e",
   "metadata": {
    "scrolled": false
   },
   "outputs": [],
   "source": [
    "b23 = pd.read_csv('b23.csv')\n",
    "fams = pd.read_csv('fams.csv')"
   ]
  },
  {
   "cell_type": "code",
   "execution_count": 143,
   "id": "9a704f2c",
   "metadata": {},
   "outputs": [],
   "source": [
    "df = pd.merge(b23, fams, left_on='FamilyBID', right_on='FamilyID', how=\"left\")"
   ]
  },
  {
   "cell_type": "code",
   "execution_count": 138,
   "id": "039af03c",
   "metadata": {
    "scrolled": false
   },
   "outputs": [],
   "source": [
    "def name_in_game_text(row,n):\n",
    "    return 1 if str(row[f'Name{n}']) in str(row['GameText']) else 0\n",
    "\n",
    "for n in range(1,6):\n",
    "    df[f'Name{n}InText'] = df.apply(lambda x: name_in_game_text(x,n), axis=1)\n",
    "    \n",
    "df['SumNameInText'] = df['Name1InText'] + df['Name2InText'] + df['Name3InText'] + df['Name4InText'] + df['Name5InText']"
   ]
  },
  {
   "cell_type": "code",
   "execution_count": 139,
   "id": "57d27d0a",
   "metadata": {},
   "outputs": [
    {
     "data": {
      "text/plain": [
       "5    1226\n",
       "4     497\n",
       "3     304\n",
       "2      95\n",
       "1      12\n",
       "0       2\n",
       "Name: SumNameInText, dtype: int64"
      ]
     },
     "execution_count": 139,
     "metadata": {},
     "output_type": "execute_result"
    }
   ],
   "source": [
    "df['SumNameInText'].value_counts()"
   ]
  },
  {
   "cell_type": "code",
   "execution_count": 140,
   "id": "2298bad8",
   "metadata": {},
   "outputs": [],
   "source": [
    "# df.iloc[6]['GameText']"
   ]
  },
  {
   "cell_type": "code",
   "execution_count": 141,
   "id": "698cb185",
   "metadata": {
    "scrolled": false
   },
   "outputs": [
    {
     "data": {
      "text/html": [
       "<div>\n",
       "<style scoped>\n",
       "    .dataframe tbody tr th:only-of-type {\n",
       "        vertical-align: middle;\n",
       "    }\n",
       "\n",
       "    .dataframe tbody tr th {\n",
       "        vertical-align: top;\n",
       "    }\n",
       "\n",
       "    .dataframe thead th {\n",
       "        text-align: right;\n",
       "    }\n",
       "</style>\n",
       "<table border=\"1\" class=\"dataframe\">\n",
       "  <thead>\n",
       "    <tr style=\"text-align: right;\">\n",
       "      <th></th>\n",
       "      <th>GameID</th>\n",
       "      <th>PostTitle</th>\n",
       "      <th>GameText</th>\n",
       "      <th>FamilyA</th>\n",
       "      <th>FamilyB</th>\n",
       "      <th>FamilyAID</th>\n",
       "      <th>FamilyBID</th>\n",
       "    </tr>\n",
       "  </thead>\n",
       "  <tbody>\n",
       "    <tr>\n",
       "      <th>431</th>\n",
       "      <td>432</td>\n",
       "      <td>“Family Feud” 11/4/13</td>\n",
       "      <td>G1: Cohens v. Simmonses (LaTawnya, Katrina, De...</td>\n",
       "      <td>Cohen</td>\n",
       "      <td>Simmons</td>\n",
       "      <td>475.0</td>\n",
       "      <td>476.0</td>\n",
       "    </tr>\n",
       "    <tr>\n",
       "      <th>472</th>\n",
       "      <td>473</td>\n",
       "      <td>“Family Feud” 1/29/14</td>\n",
       "      <td>G2: Tillmans v. Simmonses (Cole, Katie, Larry,...</td>\n",
       "      <td>Tillman</td>\n",
       "      <td>Simmons</td>\n",
       "      <td>521.0</td>\n",
       "      <td>524.0</td>\n",
       "    </tr>\n",
       "    <tr>\n",
       "      <th>474</th>\n",
       "      <td>475</td>\n",
       "      <td>“Family Feud” 1/30/14</td>\n",
       "      <td>G2: Calhouns (Candy, Sandy, Kenny, John &amp; Mich...</td>\n",
       "      <td>Calhoun</td>\n",
       "      <td>Simmons</td>\n",
       "      <td>526.0</td>\n",
       "      <td>524.0</td>\n",
       "    </tr>\n",
       "    <tr>\n",
       "      <th>476</th>\n",
       "      <td>477</td>\n",
       "      <td>“Family Feud” 1/31/14</td>\n",
       "      <td>G2: Dickenses (Roland, Jimmy, Ricky, Rita &amp; To...</td>\n",
       "      <td>Dickens</td>\n",
       "      <td>Simmons</td>\n",
       "      <td>528.0</td>\n",
       "      <td>524.0</td>\n",
       "    </tr>\n",
       "    <tr>\n",
       "      <th>478</th>\n",
       "      <td>479</td>\n",
       "      <td>“Family Feud” 2/3/14</td>\n",
       "      <td>G2: Goulds v. Simmonses || R1: Name an occupat...</td>\n",
       "      <td>Gould</td>\n",
       "      <td>Simmons</td>\n",
       "      <td>381.0</td>\n",
       "      <td>524.0</td>\n",
       "    </tr>\n",
       "    <tr>\n",
       "      <th>835</th>\n",
       "      <td>836</td>\n",
       "      <td>“Family Feud” 1/19</td>\n",
       "      <td>G1: Ramils v. Simmonses (they were here last s...</td>\n",
       "      <td>Ramil</td>\n",
       "      <td>Simmons</td>\n",
       "      <td>905.0</td>\n",
       "      <td>476.0</td>\n",
       "    </tr>\n",
       "    <tr>\n",
       "      <th>837</th>\n",
       "      <td>838</td>\n",
       "      <td>“Family Feud” 1/20/16</td>\n",
       "      <td>G1: Cupps (Dayton)(Doug, Kelly, Mandy, Madison...</td>\n",
       "      <td>Cupp</td>\n",
       "      <td>Simmons</td>\n",
       "      <td>911.0</td>\n",
       "      <td>476.0</td>\n",
       "    </tr>\n",
       "    <tr>\n",
       "      <th>839</th>\n",
       "      <td>840</td>\n",
       "      <td>“Family Feud” 1/21</td>\n",
       "      <td>M-U: Nathans (CHI)(Father Matt, Mark, Meredith...</td>\n",
       "      <td>Nathan</td>\n",
       "      <td>Simmons</td>\n",
       "      <td>914.0</td>\n",
       "      <td>476.0</td>\n",
       "    </tr>\n",
       "    <tr>\n",
       "      <th>840</th>\n",
       "      <td>841</td>\n",
       "      <td>“Family Feud” 1/25/16</td>\n",
       "      <td>2ND CAR GAME THIS YR.: Millers (Jacksonville, ...</td>\n",
       "      <td>Miller</td>\n",
       "      <td>Simmons</td>\n",
       "      <td>915.0</td>\n",
       "      <td>476.0</td>\n",
       "    </tr>\n",
       "    <tr>\n",
       "      <th>1076</th>\n",
       "      <td>1077</td>\n",
       "      <td>“Family Feud” 2/16/17</td>\n",
       "      <td>G1: Susinis v. Simmonses (DEN)(Sharon, Randell...</td>\n",
       "      <td>Susini</td>\n",
       "      <td>Simmons</td>\n",
       "      <td>1150.0</td>\n",
       "      <td>1157.0</td>\n",
       "    </tr>\n",
       "    <tr>\n",
       "      <th>1085</th>\n",
       "      <td>1086</td>\n",
       "      <td>“Family Feud”- WINTER '17 FINALE</td>\n",
       "      <td>G2: Simmonses (Sanchea, Latonya, Lavette, Ronn...</td>\n",
       "      <td>Simmons</td>\n",
       "      <td>DiCosmo</td>\n",
       "      <td>1157.0</td>\n",
       "      <td>1165.0</td>\n",
       "    </tr>\n",
       "  </tbody>\n",
       "</table>\n",
       "</div>"
      ],
      "text/plain": [
       "      GameID                         PostTitle  \\\n",
       "431      432             “Family Feud” 11/4/13   \n",
       "472      473             “Family Feud” 1/29/14   \n",
       "474      475             “Family Feud” 1/30/14   \n",
       "476      477             “Family Feud” 1/31/14   \n",
       "478      479              “Family Feud” 2/3/14   \n",
       "835      836                “Family Feud” 1/19   \n",
       "837      838             “Family Feud” 1/20/16   \n",
       "839      840                “Family Feud” 1/21   \n",
       "840      841             “Family Feud” 1/25/16   \n",
       "1076    1077             “Family Feud” 2/16/17   \n",
       "1085    1086  “Family Feud”- WINTER '17 FINALE   \n",
       "\n",
       "                                               GameText  FamilyA  FamilyB  \\\n",
       "431   G1: Cohens v. Simmonses (LaTawnya, Katrina, De...    Cohen  Simmons   \n",
       "472   G2: Tillmans v. Simmonses (Cole, Katie, Larry,...  Tillman  Simmons   \n",
       "474   G2: Calhouns (Candy, Sandy, Kenny, John & Mich...  Calhoun  Simmons   \n",
       "476   G2: Dickenses (Roland, Jimmy, Ricky, Rita & To...  Dickens  Simmons   \n",
       "478   G2: Goulds v. Simmonses || R1: Name an occupat...    Gould  Simmons   \n",
       "835   G1: Ramils v. Simmonses (they were here last s...    Ramil  Simmons   \n",
       "837   G1: Cupps (Dayton)(Doug, Kelly, Mandy, Madison...     Cupp  Simmons   \n",
       "839   M-U: Nathans (CHI)(Father Matt, Mark, Meredith...   Nathan  Simmons   \n",
       "840   2ND CAR GAME THIS YR.: Millers (Jacksonville, ...   Miller  Simmons   \n",
       "1076  G1: Susinis v. Simmonses (DEN)(Sharon, Randell...   Susini  Simmons   \n",
       "1085  G2: Simmonses (Sanchea, Latonya, Lavette, Ronn...  Simmons  DiCosmo   \n",
       "\n",
       "      FamilyAID  FamilyBID  \n",
       "431       475.0      476.0  \n",
       "472       521.0      524.0  \n",
       "474       526.0      524.0  \n",
       "476       528.0      524.0  \n",
       "478       381.0      524.0  \n",
       "835       905.0      476.0  \n",
       "837       911.0      476.0  \n",
       "839       914.0      476.0  \n",
       "840       915.0      476.0  \n",
       "1076     1150.0     1157.0  \n",
       "1085     1157.0     1165.0  "
      ]
     },
     "execution_count": 141,
     "metadata": {},
     "output_type": "execute_result"
    }
   ],
   "source": [
    "name = \"Simmons\"\n",
    "b23[((b23.FamilyA == name) | (b23.FamilyB == name))][['GameID','PostTitle','GameText','FamilyA','FamilyB','FamilyAID','FamilyBID']]\n"
   ]
  },
  {
   "cell_type": "code",
   "execution_count": 134,
   "id": "01cdcc60",
   "metadata": {
    "scrolled": false
   },
   "outputs": [
    {
     "data": {
      "text/html": [
       "<div>\n",
       "<style scoped>\n",
       "    .dataframe tbody tr th:only-of-type {\n",
       "        vertical-align: middle;\n",
       "    }\n",
       "\n",
       "    .dataframe tbody tr th {\n",
       "        vertical-align: top;\n",
       "    }\n",
       "\n",
       "    .dataframe thead th {\n",
       "        text-align: right;\n",
       "    }\n",
       "</style>\n",
       "<table border=\"1\" class=\"dataframe\">\n",
       "  <thead>\n",
       "    <tr style=\"text-align: right;\">\n",
       "      <th></th>\n",
       "      <th>GameID</th>\n",
       "      <th>PostTitle</th>\n",
       "      <th>GameText</th>\n",
       "      <th>GameHTML</th>\n",
       "      <th>PostVersion</th>\n",
       "      <th>PostDate</th>\n",
       "      <th>GameTitle</th>\n",
       "      <th>FamilyA_p</th>\n",
       "      <th>FamilyB_p</th>\n",
       "      <th>FamilyA</th>\n",
       "      <th>FamilyB</th>\n",
       "      <th>FamilyAID</th>\n",
       "      <th>FamilyBID</th>\n",
       "      <th>EpisodeNum</th>\n",
       "      <th>SeasonNum</th>\n",
       "      <th>QS_GameTitle</th>\n",
       "      <th>QS_Round1Tag</th>\n",
       "      <th>QS_Round1FullText</th>\n",
       "      <th>QS_Round2Tag</th>\n",
       "      <th>QS_Round2FullText</th>\n",
       "      <th>QS_DoubleTag</th>\n",
       "      <th>QS_DoubleFullText</th>\n",
       "      <th>QS_TripleTag</th>\n",
       "      <th>QS_TripleFullText</th>\n",
       "      <th>QS_SuddenDeathTag</th>\n",
       "      <th>QS_SuddenDeathFullText</th>\n",
       "      <th>QS_FastMoneyTag</th>\n",
       "      <th>QS_FastMoneyFullText</th>\n",
       "      <th>QS_Round1Q</th>\n",
       "      <th>QS_Round1A</th>\n",
       "      <th>QS_Round2Q</th>\n",
       "      <th>QS_Round2A</th>\n",
       "      <th>QS_DoubleQ</th>\n",
       "      <th>QS_DoubleA</th>\n",
       "      <th>QS_TripleQ</th>\n",
       "      <th>QS_TripleA</th>\n",
       "      <th>QS_SuddenDeathQ</th>\n",
       "      <th>QS_SuddenDeathA</th>\n",
       "      <th>0</th>\n",
       "      <th>QS_FastMoney_Q1_Tag</th>\n",
       "      <th>QS_FastMoney_Q1</th>\n",
       "      <th>QS_FastMoney_Q2_Tag</th>\n",
       "      <th>QS_FastMoney_Q2</th>\n",
       "      <th>QS_FastMoney_Q3_Tag</th>\n",
       "      <th>QS_FastMoney_Q3</th>\n",
       "      <th>QS_FastMoney_Q4_Tag</th>\n",
       "      <th>QS_FastMoney_Q4</th>\n",
       "      <th>QS_FastMoney_Q5_Tag</th>\n",
       "      <th>QS_FastMoney_Q5</th>\n",
       "      <th>QS_FastMoney_Answers</th>\n",
       "      <th>QS_GameHeader</th>\n",
       "      <th>QS_FamiliesFull</th>\n",
       "      <th>QS_FamilyAFull</th>\n",
       "      <th>QS_FamilyBFull</th>\n",
       "      <th>QS_FamilyA</th>\n",
       "      <th>QS_FamilyA_Info</th>\n",
       "      <th>QS_FamilyB</th>\n",
       "      <th>QS_FamilyB_Info</th>\n",
       "      <th>QS_FamilyA_Names</th>\n",
       "      <th>QS_FamilyA_Location</th>\n",
       "      <th>QS_FamilyA_Notes1</th>\n",
       "      <th>QS_FamilyA_Notes2</th>\n",
       "      <th>QS_FamilyB_Names</th>\n",
       "      <th>QS_FamilyB_Location</th>\n",
       "      <th>QS_FamilyB_Notes1</th>\n",
       "      <th>QS_FamilyB_Notes2</th>\n",
       "      <th>FamilyID</th>\n",
       "      <th>Names</th>\n",
       "      <th>Location</th>\n",
       "      <th>Notes</th>\n",
       "      <th>Name1</th>\n",
       "      <th>Name2</th>\n",
       "      <th>Name3</th>\n",
       "      <th>Name4</th>\n",
       "      <th>Name5</th>\n",
       "      <th>Name6</th>\n",
       "      <th>Name7</th>\n",
       "      <th>Name1InText</th>\n",
       "      <th>Name2InText</th>\n",
       "      <th>Name3InText</th>\n",
       "      <th>Name4InText</th>\n",
       "      <th>Name5InText</th>\n",
       "      <th>SumNameInText</th>\n",
       "    </tr>\n",
       "  </thead>\n",
       "  <tbody>\n",
       "    <tr>\n",
       "      <th>68</th>\n",
       "      <td>69</td>\n",
       "      <td>“Family Feud” 11/3/10</td>\n",
       "      <td>|| R1 (women): Name something men wear that wo...</td>\n",
       "      <td>|| &lt;p&gt;&lt;strong&gt;R1 (women): Name something men w...</td>\n",
       "      <td>Standard</td>\n",
       "      <td>2010-11-03</td>\n",
       "      <td>TNA Wrestling games (Wed)</td>\n",
       "      <td>Wrestlers</td>\n",
       "      <td>Knockouts</td>\n",
       "      <td>Wrestler</td>\n",
       "      <td>Knockout</td>\n",
       "      <td>70.0</td>\n",
       "      <td>71.0</td>\n",
       "      <td>69</td>\n",
       "      <td>12</td>\n",
       "      <td>||</td>\n",
       "      <td>R1</td>\n",
       "      <td>(women): Name something men wear that women th...</td>\n",
       "      <td>R2</td>\n",
       "      <td>: Name another word for “stink”: || #1: Smell(...</td>\n",
       "      <td>|| Double</td>\n",
       "      <td>: Name a place where people AREN'T shy about m...</td>\n",
       "      <td>|| TRIPLE</td>\n",
       "      <td>: Name something an INCONSIDERATE person will ...</td>\n",
       "      <td>NaN</td>\n",
       "      <td>NaN</td>\n",
       "      <td>FM</td>\n",
       "      <td>:\\n#1: Someone you'd be SHOCKED to receive a N...</td>\n",
       "      <td>(women): Name something men wear that women th...</td>\n",
       "      <td>#1:\\n#2: Cologne/aftershave (12)(RVD)\\n#3:\\n#4...</td>\n",
       "      <td>: Name another word for “stink”: ||</td>\n",
       "      <td>#1: Smell(y)(72)(Velvet)\\n#2:\\n#3:\\n#4:\\n#5:\\n...</td>\n",
       "      <td>: Name a place where people AREN'T shy about m...</td>\n",
       "      <td>#1: Park (38)(Angelina)\\n#2:\\n#3:\\n#4:\\n#5:\\n#...</td>\n",
       "      <td>: Name something an INCONSIDERATE person will ...</td>\n",
       "      <td>#1: Food (44)(Lacey)\\n#2:\\n#3:\\n#4: || Knockou...</td>\n",
       "      <td>NaN</td>\n",
       "      <td>NaN</td>\n",
       "      <td>:</td>\n",
       "      <td>#1</td>\n",
       "      <td>: Someone you'd be SHOCKED to receive a NAUGHT...</td>\n",
       "      <td>#2</td>\n",
       "      <td>: An insect you hope NEVER goes inside your ear.</td>\n",
       "      <td>#3</td>\n",
       "      <td>: Besides water, something used to put out fire.</td>\n",
       "      <td>#4</td>\n",
       "      <td>: Name the age when a girl should start wearin...</td>\n",
       "      <td>#5</td>\n",
       "      <td>: Something some men wear &amp; some men DON'T.</td>\n",
       "      <td>Rob: Mom (21), spider (21), CO² &amp; 14 (18)\\nKen...</td>\n",
       "      <td>TNA Wrestling games (Wed)</td>\n",
       "      <td>NaN</td>\n",
       "      <td>NaN</td>\n",
       "      <td>NaN</td>\n",
       "      <td>NaN</td>\n",
       "      <td>NaN</td>\n",
       "      <td>NaN</td>\n",
       "      <td>NaN</td>\n",
       "      <td>NaN</td>\n",
       "      <td>NaN</td>\n",
       "      <td>NaN</td>\n",
       "      <td>NaN</td>\n",
       "      <td>NaN</td>\n",
       "      <td>NaN</td>\n",
       "      <td>NaN</td>\n",
       "      <td>NaN</td>\n",
       "      <td>71.0</td>\n",
       "      <td>Angelina Love, Lacey Von Erich, Tara, Christy ...</td>\n",
       "      <td>NaN</td>\n",
       "      <td>NaN</td>\n",
       "      <td>Angelina Love</td>\n",
       "      <td>Lacey Von Erich</td>\n",
       "      <td>Tara</td>\n",
       "      <td>Christy Hemme</td>\n",
       "      <td>Velvet Sky</td>\n",
       "      <td>NaN</td>\n",
       "      <td>NaN</td>\n",
       "      <td>0</td>\n",
       "      <td>0</td>\n",
       "      <td>0</td>\n",
       "      <td>0</td>\n",
       "      <td>0</td>\n",
       "      <td>0</td>\n",
       "    </tr>\n",
       "    <tr>\n",
       "      <th>69</th>\n",
       "      <td>70</td>\n",
       "      <td>“Family Feud” 11/4/10</td>\n",
       "      <td>|| R1: Name a place a husband better NOT be wh...</td>\n",
       "      <td>|| &lt;p&gt;&lt;strong&gt;R1: Name a place a husband bette...</td>\n",
       "      <td>Standard</td>\n",
       "      <td>2010-11-04</td>\n",
       "      <td>TNA Wrestling games (Thur)</td>\n",
       "      <td>Wrestlers</td>\n",
       "      <td>Knockouts</td>\n",
       "      <td>Wrestler</td>\n",
       "      <td>Knockout</td>\n",
       "      <td>70.0</td>\n",
       "      <td>71.0</td>\n",
       "      <td>70</td>\n",
       "      <td>12</td>\n",
       "      <td>||</td>\n",
       "      <td>R1</td>\n",
       "      <td>: Name a place a husband better NOT be when hi...</td>\n",
       "      <td>R2</td>\n",
       "      <td>: Name a fruit a man thinks is sexy when a wom...</td>\n",
       "      <td>|| Double</td>\n",
       "      <td>: Name something some people do frequently &amp; o...</td>\n",
       "      <td>|| TRIPLE</td>\n",
       "      <td>: Name something that's usually the job of the...</td>\n",
       "      <td>NaN</td>\n",
       "      <td>NaN</td>\n",
       "      <td>FM</td>\n",
       "      <td>:\\n#1: Something your mom made you do before y...</td>\n",
       "      <td>: Name a place a husband better NOT be when hi...</td>\n",
       "      <td>#1: Bar (46)(Mick)\\n#2: Girlfriend's house (19...</td>\n",
       "      <td>: Name a fruit a man thinks is sexy when a wom...</td>\n",
       "      <td>#1: Banana (67)(Jay)\\n#2:\\n#3:\\n#4:\\n#5:\\n#6: ...</td>\n",
       "      <td>: Name something some people do frequently &amp; o...</td>\n",
       "      <td>#1:\\n#2:\\n#3: Sex (6)(Christy)\\n#4:\\n#5:\\n#6:\\...</td>\n",
       "      <td>: Name something that's usually the job of the...</td>\n",
       "      <td>#1:\\n#2:\\n#3: Walk dog (5)(Velvet)\\n#4:\\nX- Ge...</td>\n",
       "      <td>NaN</td>\n",
       "      <td>NaN</td>\n",
       "      <td>:</td>\n",
       "      <td>#1</td>\n",
       "      <td>: Something your mom made you do before you le...</td>\n",
       "      <td>#2</td>\n",
       "      <td>: On the scale, how replaceable are you at work?</td>\n",
       "      <td>#3</td>\n",
       "      <td>: Something that might get broken in a bar fight.</td>\n",
       "      <td>#4</td>\n",
       "      <td>: Besides red, a color roses come in.</td>\n",
       "      <td>#5</td>\n",
       "      <td>: Which occupation would you find the bravest ...</td>\n",
       "      <td>Matt: Make the bed (7), 0, bottle (31), white ...</td>\n",
       "      <td>TNA Wrestling games (Thur)</td>\n",
       "      <td>NaN</td>\n",
       "      <td>NaN</td>\n",
       "      <td>NaN</td>\n",
       "      <td>NaN</td>\n",
       "      <td>NaN</td>\n",
       "      <td>NaN</td>\n",
       "      <td>NaN</td>\n",
       "      <td>NaN</td>\n",
       "      <td>NaN</td>\n",
       "      <td>NaN</td>\n",
       "      <td>NaN</td>\n",
       "      <td>NaN</td>\n",
       "      <td>NaN</td>\n",
       "      <td>NaN</td>\n",
       "      <td>NaN</td>\n",
       "      <td>71.0</td>\n",
       "      <td>Angelina Love, Lacey Von Erich, Tara, Christy ...</td>\n",
       "      <td>NaN</td>\n",
       "      <td>NaN</td>\n",
       "      <td>Angelina Love</td>\n",
       "      <td>Lacey Von Erich</td>\n",
       "      <td>Tara</td>\n",
       "      <td>Christy Hemme</td>\n",
       "      <td>Velvet Sky</td>\n",
       "      <td>NaN</td>\n",
       "      <td>NaN</td>\n",
       "      <td>0</td>\n",
       "      <td>0</td>\n",
       "      <td>0</td>\n",
       "      <td>0</td>\n",
       "      <td>0</td>\n",
       "      <td>0</td>\n",
       "    </tr>\n",
       "    <tr>\n",
       "      <th>1076</th>\n",
       "      <td>1077</td>\n",
       "      <td>“Family Feud” 2/16/17</td>\n",
       "      <td>G1: Susinis v. Simmonses (DEN)(Sharon, Randell...</td>\n",
       "      <td>&lt;p&gt;&lt;span style=\"text-decoration:underline;\"&gt;G1...</td>\n",
       "      <td>Standard</td>\n",
       "      <td>2017-02-16</td>\n",
       "      <td>G1: Susinis v. Simmonses (DEN)(Sharon, Randell...</td>\n",
       "      <td>Susinis</td>\n",
       "      <td>Simmonses</td>\n",
       "      <td>Susini</td>\n",
       "      <td>Simmons</td>\n",
       "      <td>1150.0</td>\n",
       "      <td>1157.0</td>\n",
       "      <td>138</td>\n",
       "      <td>18</td>\n",
       "      <td>G1: Susinis v. Simmonses (DEN)(Sharon, Randell...</td>\n",
       "      <td>R1</td>\n",
       "      <td>: When you get to heaven, name someone there w...</td>\n",
       "      <td>R2</td>\n",
       "      <td>: Name something about a female giraffe that a...</td>\n",
       "      <td>|| Double</td>\n",
       "      <td>: You're in _______: || #1: trouble (32)(Jacki...</td>\n",
       "      <td>|| TRIPLE</td>\n",
       "      <td>: Name something of yours you wish was better-...</td>\n",
       "      <td>NaN</td>\n",
       "      <td>NaN</td>\n",
       "      <td>FM</td>\n",
       "      <td>:\\n#1: On the scale, how much do you HATE step...</td>\n",
       "      <td>: When you get to heaven, name someone there w...</td>\n",
       "      <td>#1:\\n#2: Mom-in-law (20)(Jared)\\n#3:\\n#4:\\n#5:...</td>\n",
       "      <td>: Name something about a female giraffe that a...</td>\n",
       "      <td>#1: Suckable neck (76)(Cholla)\\n#2:\\n#3:\\n#4:\\...</td>\n",
       "      <td>: You're in _______: ||</td>\n",
       "      <td>#1: trouble (32)(Jackie)\\n#2:\\n#3:\\n#4:\\n#5:\\n...</td>\n",
       "      <td>: Name something of yours you wish was better-...</td>\n",
       "      <td>#1: Bod/face/hair (69)(Jackie)\\n #2:\\n #3:\\n #...</td>\n",
       "      <td>NaN</td>\n",
       "      <td>NaN</td>\n",
       "      <td>:</td>\n",
       "      <td>#1</td>\n",
       "      <td>: On the scale, how much do you HATE stepping ...</td>\n",
       "      <td>#2</td>\n",
       "      <td>: Something that gets sliced.</td>\n",
       "      <td>#3</td>\n",
       "      <td>: An occupation where you'd have to wear a hat.</td>\n",
       "      <td>#4</td>\n",
       "      <td>: Something you take out before you go to bed.</td>\n",
       "      <td>#5</td>\n",
       "      <td>: A man might freak out if his wife washed his...</td>\n",
       "      <td>Cholla: 10 (24), bread (23), construction (30)...</td>\n",
       "      <td>G1</td>\n",
       "      <td>Susinis v. Simmonses (DEN)(Sharon, Randell, De...</td>\n",
       "      <td>Susinis</td>\n",
       "      <td>Simmonses (DEN)(Sharon, Randell, Denise, Paul ...</td>\n",
       "      <td>Susinis</td>\n",
       "      <td>NaN</td>\n",
       "      <td>Simmonses</td>\n",
       "      <td>DEN)(Sharon, Randell, Denise, Paul &amp; Janeece)</td>\n",
       "      <td>NaN</td>\n",
       "      <td>NaN</td>\n",
       "      <td>NaN</td>\n",
       "      <td>NaN</td>\n",
       "      <td>Sharon, Randell, Denise, Paul &amp; Janeece</td>\n",
       "      <td>DEN</td>\n",
       "      <td>NaN</td>\n",
       "      <td>NaN</td>\n",
       "      <td>1157.0</td>\n",
       "      <td>Sanchea, Latonya, Lavette, Ronni &amp; Cheryl</td>\n",
       "      <td>DEN</td>\n",
       "      <td>NaN</td>\n",
       "      <td>Sanchea</td>\n",
       "      <td>Latonya</td>\n",
       "      <td>Lavette</td>\n",
       "      <td>Ronni</td>\n",
       "      <td>Cheryl</td>\n",
       "      <td>NaN</td>\n",
       "      <td>NaN</td>\n",
       "      <td>0</td>\n",
       "      <td>0</td>\n",
       "      <td>0</td>\n",
       "      <td>0</td>\n",
       "      <td>0</td>\n",
       "      <td>0</td>\n",
       "    </tr>\n",
       "  </tbody>\n",
       "</table>\n",
       "</div>"
      ],
      "text/plain": [
       "      GameID              PostTitle  \\\n",
       "68        69  “Family Feud” 11/3/10   \n",
       "69        70  “Family Feud” 11/4/10   \n",
       "1076    1077  “Family Feud” 2/16/17   \n",
       "\n",
       "                                               GameText  \\\n",
       "68    || R1 (women): Name something men wear that wo...   \n",
       "69    || R1: Name a place a husband better NOT be wh...   \n",
       "1076  G1: Susinis v. Simmonses (DEN)(Sharon, Randell...   \n",
       "\n",
       "                                               GameHTML PostVersion  \\\n",
       "68    || <p><strong>R1 (women): Name something men w...    Standard   \n",
       "69    || <p><strong>R1: Name a place a husband bette...    Standard   \n",
       "1076  <p><span style=\"text-decoration:underline;\">G1...    Standard   \n",
       "\n",
       "        PostDate                                          GameTitle  \\\n",
       "68    2010-11-03                          TNA Wrestling games (Wed)   \n",
       "69    2010-11-04                         TNA Wrestling games (Thur)   \n",
       "1076  2017-02-16  G1: Susinis v. Simmonses (DEN)(Sharon, Randell...   \n",
       "\n",
       "      FamilyA_p  FamilyB_p   FamilyA   FamilyB  FamilyAID  FamilyBID  \\\n",
       "68    Wrestlers  Knockouts  Wrestler  Knockout       70.0       71.0   \n",
       "69    Wrestlers  Knockouts  Wrestler  Knockout       70.0       71.0   \n",
       "1076    Susinis  Simmonses    Susini   Simmons     1150.0     1157.0   \n",
       "\n",
       "      EpisodeNum  SeasonNum  \\\n",
       "68            69         12   \n",
       "69            70         12   \n",
       "1076         138         18   \n",
       "\n",
       "                                           QS_GameTitle QS_Round1Tag  \\\n",
       "68                                                   ||           R1   \n",
       "69                                                   ||           R1   \n",
       "1076  G1: Susinis v. Simmonses (DEN)(Sharon, Randell...           R1   \n",
       "\n",
       "                                      QS_Round1FullText QS_Round2Tag  \\\n",
       "68    (women): Name something men wear that women th...           R2   \n",
       "69    : Name a place a husband better NOT be when hi...           R2   \n",
       "1076  : When you get to heaven, name someone there w...           R2   \n",
       "\n",
       "                                      QS_Round2FullText QS_DoubleTag  \\\n",
       "68    : Name another word for “stink”: || #1: Smell(...    || Double   \n",
       "69    : Name a fruit a man thinks is sexy when a wom...    || Double   \n",
       "1076  : Name something about a female giraffe that a...    || Double   \n",
       "\n",
       "                                      QS_DoubleFullText QS_TripleTag   \\\n",
       "68    : Name a place where people AREN'T shy about m...     || TRIPLE   \n",
       "69    : Name something some people do frequently & o...     || TRIPLE   \n",
       "1076  : You're in _______: || #1: trouble (32)(Jacki...     || TRIPLE   \n",
       "\n",
       "                                      QS_TripleFullText QS_SuddenDeathTag  \\\n",
       "68    : Name something an INCONSIDERATE person will ...               NaN   \n",
       "69    : Name something that's usually the job of the...               NaN   \n",
       "1076  : Name something of yours you wish was better-...               NaN   \n",
       "\n",
       "     QS_SuddenDeathFullText QS_FastMoneyTag  \\\n",
       "68                      NaN              FM   \n",
       "69                      NaN              FM   \n",
       "1076                    NaN              FM   \n",
       "\n",
       "                                   QS_FastMoneyFullText  \\\n",
       "68    :\\n#1: Someone you'd be SHOCKED to receive a N...   \n",
       "69    :\\n#1: Something your mom made you do before y...   \n",
       "1076  :\\n#1: On the scale, how much do you HATE step...   \n",
       "\n",
       "                                             QS_Round1Q  \\\n",
       "68    (women): Name something men wear that women th...   \n",
       "69    : Name a place a husband better NOT be when hi...   \n",
       "1076  : When you get to heaven, name someone there w...   \n",
       "\n",
       "                                             QS_Round1A  \\\n",
       "68    #1:\\n#2: Cologne/aftershave (12)(RVD)\\n#3:\\n#4...   \n",
       "69    #1: Bar (46)(Mick)\\n#2: Girlfriend's house (19...   \n",
       "1076  #1:\\n#2: Mom-in-law (20)(Jared)\\n#3:\\n#4:\\n#5:...   \n",
       "\n",
       "                                             QS_Round2Q  \\\n",
       "68                  : Name another word for “stink”: ||   \n",
       "69    : Name a fruit a man thinks is sexy when a wom...   \n",
       "1076  : Name something about a female giraffe that a...   \n",
       "\n",
       "                                             QS_Round2A  \\\n",
       "68    #1: Smell(y)(72)(Velvet)\\n#2:\\n#3:\\n#4:\\n#5:\\n...   \n",
       "69    #1: Banana (67)(Jay)\\n#2:\\n#3:\\n#4:\\n#5:\\n#6: ...   \n",
       "1076  #1: Suckable neck (76)(Cholla)\\n#2:\\n#3:\\n#4:\\...   \n",
       "\n",
       "                                             QS_DoubleQ  \\\n",
       "68    : Name a place where people AREN'T shy about m...   \n",
       "69    : Name something some people do frequently & o...   \n",
       "1076                            : You're in _______: ||   \n",
       "\n",
       "                                             QS_DoubleA  \\\n",
       "68    #1: Park (38)(Angelina)\\n#2:\\n#3:\\n#4:\\n#5:\\n#...   \n",
       "69    #1:\\n#2:\\n#3: Sex (6)(Christy)\\n#4:\\n#5:\\n#6:\\...   \n",
       "1076  #1: trouble (32)(Jackie)\\n#2:\\n#3:\\n#4:\\n#5:\\n...   \n",
       "\n",
       "                                             QS_TripleQ  \\\n",
       "68    : Name something an INCONSIDERATE person will ...   \n",
       "69    : Name something that's usually the job of the...   \n",
       "1076  : Name something of yours you wish was better-...   \n",
       "\n",
       "                                             QS_TripleA QS_SuddenDeathQ  \\\n",
       "68    #1: Food (44)(Lacey)\\n#2:\\n#3:\\n#4: || Knockou...             NaN   \n",
       "69    #1:\\n#2:\\n#3: Walk dog (5)(Velvet)\\n#4:\\nX- Ge...             NaN   \n",
       "1076  #1: Bod/face/hair (69)(Jackie)\\n #2:\\n #3:\\n #...             NaN   \n",
       "\n",
       "     QS_SuddenDeathA  0 QS_FastMoney_Q1_Tag  \\\n",
       "68               NaN  :                  #1   \n",
       "69               NaN  :                  #1   \n",
       "1076             NaN  :                  #1   \n",
       "\n",
       "                                        QS_FastMoney_Q1 QS_FastMoney_Q2_Tag  \\\n",
       "68    : Someone you'd be SHOCKED to receive a NAUGHT...                  #2   \n",
       "69    : Something your mom made you do before you le...                  #2   \n",
       "1076  : On the scale, how much do you HATE stepping ...                  #2   \n",
       "\n",
       "                                       QS_FastMoney_Q2 QS_FastMoney_Q3_Tag  \\\n",
       "68    : An insect you hope NEVER goes inside your ear.                  #3   \n",
       "69    : On the scale, how replaceable are you at work?                  #3   \n",
       "1076                     : Something that gets sliced.                  #3   \n",
       "\n",
       "                                        QS_FastMoney_Q3 QS_FastMoney_Q4_Tag  \\\n",
       "68     : Besides water, something used to put out fire.                  #4   \n",
       "69    : Something that might get broken in a bar fight.                  #4   \n",
       "1076    : An occupation where you'd have to wear a hat.                  #4   \n",
       "\n",
       "                                        QS_FastMoney_Q4 QS_FastMoney_Q5_Tag  \\\n",
       "68    : Name the age when a girl should start wearin...                  #5   \n",
       "69                : Besides red, a color roses come in.                  #5   \n",
       "1076     : Something you take out before you go to bed.                  #5   \n",
       "\n",
       "                                        QS_FastMoney_Q5  \\\n",
       "68          : Something some men wear & some men DON'T.   \n",
       "69    : Which occupation would you find the bravest ...   \n",
       "1076  : A man might freak out if his wife washed his...   \n",
       "\n",
       "                                   QS_FastMoney_Answers  \\\n",
       "68    Rob: Mom (21), spider (21), CO² & 14 (18)\\nKen...   \n",
       "69    Matt: Make the bed (7), 0, bottle (31), white ...   \n",
       "1076  Cholla: 10 (24), bread (23), construction (30)...   \n",
       "\n",
       "                   QS_GameHeader  \\\n",
       "68     TNA Wrestling games (Wed)   \n",
       "69    TNA Wrestling games (Thur)   \n",
       "1076                          G1   \n",
       "\n",
       "                                        QS_FamiliesFull QS_FamilyAFull  \\\n",
       "68                                                  NaN            NaN   \n",
       "69                                                  NaN            NaN   \n",
       "1076  Susinis v. Simmonses (DEN)(Sharon, Randell, De...        Susinis   \n",
       "\n",
       "                                         QS_FamilyBFull QS_FamilyA  \\\n",
       "68                                                  NaN        NaN   \n",
       "69                                                  NaN        NaN   \n",
       "1076  Simmonses (DEN)(Sharon, Randell, Denise, Paul ...    Susinis   \n",
       "\n",
       "     QS_FamilyA_Info QS_FamilyB  \\\n",
       "68               NaN        NaN   \n",
       "69               NaN        NaN   \n",
       "1076             NaN  Simmonses   \n",
       "\n",
       "                                    QS_FamilyB_Info QS_FamilyA_Names  \\\n",
       "68                                              NaN              NaN   \n",
       "69                                              NaN              NaN   \n",
       "1076  DEN)(Sharon, Randell, Denise, Paul & Janeece)              NaN   \n",
       "\n",
       "     QS_FamilyA_Location QS_FamilyA_Notes1 QS_FamilyA_Notes2  \\\n",
       "68                   NaN               NaN               NaN   \n",
       "69                   NaN               NaN               NaN   \n",
       "1076                 NaN               NaN               NaN   \n",
       "\n",
       "                             QS_FamilyB_Names QS_FamilyB_Location  \\\n",
       "68                                        NaN                 NaN   \n",
       "69                                        NaN                 NaN   \n",
       "1076  Sharon, Randell, Denise, Paul & Janeece                 DEN   \n",
       "\n",
       "     QS_FamilyB_Notes1 QS_FamilyB_Notes2  FamilyID  \\\n",
       "68                 NaN               NaN      71.0   \n",
       "69                 NaN               NaN      71.0   \n",
       "1076               NaN               NaN    1157.0   \n",
       "\n",
       "                                                  Names Location Notes  \\\n",
       "68    Angelina Love, Lacey Von Erich, Tara, Christy ...      NaN   NaN   \n",
       "69    Angelina Love, Lacey Von Erich, Tara, Christy ...      NaN   NaN   \n",
       "1076          Sanchea, Latonya, Lavette, Ronni & Cheryl      DEN   NaN   \n",
       "\n",
       "              Name1            Name2    Name3          Name4       Name5  \\\n",
       "68    Angelina Love  Lacey Von Erich     Tara  Christy Hemme  Velvet Sky   \n",
       "69    Angelina Love  Lacey Von Erich     Tara  Christy Hemme  Velvet Sky   \n",
       "1076        Sanchea          Latonya  Lavette          Ronni      Cheryl   \n",
       "\n",
       "     Name6  Name7  Name1InText  Name2InText  Name3InText  Name4InText  \\\n",
       "68     NaN    NaN            0            0            0            0   \n",
       "69     NaN    NaN            0            0            0            0   \n",
       "1076   NaN    NaN            0            0            0            0   \n",
       "\n",
       "      Name5InText  SumNameInText  \n",
       "68              0              0  \n",
       "69              0              0  \n",
       "1076            0              0  "
      ]
     },
     "execution_count": 134,
     "metadata": {},
     "output_type": "execute_result"
    }
   ],
   "source": [
    "df[(df['SumNameInText']==0)]"
   ]
  },
  {
   "cell_type": "code",
   "execution_count": 3,
   "id": "1e284ac5",
   "metadata": {},
   "outputs": [],
   "source": [
    "b24 = pd.read_csv('b24.csv')\n",
    "fams = pd.read_csv('fams.csv')"
   ]
  },
  {
   "cell_type": "code",
   "execution_count": 19,
   "id": "2101378e",
   "metadata": {},
   "outputs": [],
   "source": [
    "As = b24[['FamilyAID','FamilyA','FamilyA_p']]\n",
    "As.columns = ['FamilyID','Family','Family_p']\n",
    "Bs = b24[['FamilyBID','FamilyB','FamilyB_p']]\n",
    "Bs.columns = ['FamilyID','Family','Family_p']"
   ]
  },
  {
   "cell_type": "code",
   "execution_count": 20,
   "id": "46cd0f29",
   "metadata": {},
   "outputs": [],
   "source": [
    "df = pd.concat([As, Bs], axis=0)\n",
    "df = df.drop_duplicates().sort_values(by='FamilyID')"
   ]
  },
  {
   "cell_type": "code",
   "execution_count": 21,
   "id": "e4428a92",
   "metadata": {},
   "outputs": [],
   "source": [
    "fams_ = pd.merge(fams, df, left_on='FamilyID', right_on='FamilyID', how=\"left\")"
   ]
  },
  {
   "cell_type": "code",
   "execution_count": 22,
   "id": "57b364af",
   "metadata": {},
   "outputs": [],
   "source": [
    "fams_.to_csv('fams_.csv', index=False)"
   ]
  },
  {
   "cell_type": "code",
   "execution_count": null,
   "id": "abaa954f",
   "metadata": {},
   "outputs": [],
   "source": []
  }
 ],
 "metadata": {
  "kernelspec": {
   "display_name": "Python 3 (ipykernel)",
   "language": "python",
   "name": "python3"
  },
  "language_info": {
   "codemirror_mode": {
    "name": "ipython",
    "version": 3
   },
   "file_extension": ".py",
   "mimetype": "text/x-python",
   "name": "python",
   "nbconvert_exporter": "python",
   "pygments_lexer": "ipython3",
   "version": "3.9.9"
  }
 },
 "nbformat": 4,
 "nbformat_minor": 5
}
