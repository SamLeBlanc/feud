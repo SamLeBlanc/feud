{
 "cells": [
  {
   "cell_type": "code",
   "execution_count": 4,
   "id": "3a98ec22",
   "metadata": {},
   "outputs": [],
   "source": [
    "import pandas as pd"
   ]
  },
  {
   "cell_type": "markdown",
   "id": "1168ef7f",
   "metadata": {},
   "source": [
    "# Philo\n",
    "Saved to DVR on Philo"
   ]
  },
  {
   "cell_type": "code",
   "execution_count": 10,
   "id": "aa0c92b2",
   "metadata": {},
   "outputs": [],
   "source": [
    " def get_philo_df():\n",
    "    # Page source of full Philo library\n",
    "    # !!! Make sure the library is fully expanded before extracting source, or else episodes will not be loaded into HTML code\n",
    "    with open('../data/philo.txt') as f:\n",
    "        lines = f.readlines()\n",
    "\n",
    "    # Some new lines exist already but remove these by joining\n",
    "    text = ' '.join(lines)\n",
    "\n",
    "    # Split on episode title\n",
    "    eps = text.split('Family Feud, ')\n",
    "\n",
    "    # Get only the first x characters which are the actual episode title\n",
    "    # Exclude first element since this is the \"pre-split\"\n",
    "    titles = [ep[:28] for ep in eps[1:]]\n",
    "\n",
    "    # Split on new element\n",
    "    titles = [tit.split(\">\")[0] for tit in titles]\n",
    "\n",
    "    # Some titles have new lines in them\n",
    "    titles = [tit.replace(\"\\n  \",\"\") for tit in titles]\n",
    "\n",
    "    # Some titles are missing a space between \"Episode\" and number\n",
    "    titles = [tit.replace(\"Episode\",\"Episode \") for tit in titles]\n",
    "    titles = [tit.replace(\"Episode  \",\"Episode \") for tit in titles]\n",
    "\n",
    "    regex = re.compile('[^a-zA-Z0-9, ]')\n",
    "    titles = [regex.sub('', tit) for tit in titles]\n",
    "\n",
    "    regex = re.compile('[^0-9,]')\n",
    "    title_nums = [regex.sub('', tit).split(\",\") for tit in titles]\n",
    "\n",
    "    df = pd.DataFrame(title_nums, columns=['SeasonNum','EpisodeNum']).drop_duplicates()\n",
    "    df = df.astype(int)\n",
    "    df = df.sort_values(by=['SeasonNum','EpisodeNum']).reset_index(drop=True)\n",
    "        \n",
    "    df.to_pickle(\"../pickles/df_philo.pkl\")\n",
    "    \n",
    "    return df"
   ]
  },
  {
   "cell_type": "code",
   "execution_count": 11,
   "id": "e3544f5f",
   "metadata": {},
   "outputs": [],
   "source": [
    "try:\n",
    "    df_philo = pd.read_pickle(\"../pickles/df_philo.pkl\")\n",
    "except:\n",
    "    df_philo = get_philo_df()"
   ]
  },
  {
   "cell_type": "code",
   "execution_count": 15,
   "id": "42c664ea",
   "metadata": {},
   "outputs": [
    {
     "name": "stdout",
     "output_type": "stream",
     "text": [
      "Total Episodes: 864\n"
     ]
    }
   ],
   "source": [
    "# Total number of Philo episodes\n",
    "print(\"Total Episodes:\",df_philo.shape[0])"
   ]
  },
  {
   "cell_type": "code",
   "execution_count": 16,
   "id": "632dee39",
   "metadata": {},
   "outputs": [
    {
     "data": {
      "text/html": [
       "<div>\n",
       "<style scoped>\n",
       "    .dataframe tbody tr th:only-of-type {\n",
       "        vertical-align: middle;\n",
       "    }\n",
       "\n",
       "    .dataframe tbody tr th {\n",
       "        vertical-align: top;\n",
       "    }\n",
       "\n",
       "    .dataframe thead th {\n",
       "        text-align: right;\n",
       "    }\n",
       "</style>\n",
       "<table border=\"1\" class=\"dataframe\">\n",
       "  <thead>\n",
       "    <tr style=\"text-align: right;\">\n",
       "      <th></th>\n",
       "      <th>EpisodeNum</th>\n",
       "    </tr>\n",
       "    <tr>\n",
       "      <th>SeasonNum</th>\n",
       "      <th></th>\n",
       "    </tr>\n",
       "  </thead>\n",
       "  <tbody>\n",
       "    <tr>\n",
       "      <th>14</th>\n",
       "      <td>15</td>\n",
       "    </tr>\n",
       "    <tr>\n",
       "      <th>15</th>\n",
       "      <td>67</td>\n",
       "    </tr>\n",
       "    <tr>\n",
       "      <th>16</th>\n",
       "      <td>96</td>\n",
       "    </tr>\n",
       "    <tr>\n",
       "      <th>17</th>\n",
       "      <td>106</td>\n",
       "    </tr>\n",
       "    <tr>\n",
       "      <th>18</th>\n",
       "      <td>116</td>\n",
       "    </tr>\n",
       "    <tr>\n",
       "      <th>19</th>\n",
       "      <td>143</td>\n",
       "    </tr>\n",
       "    <tr>\n",
       "      <th>20</th>\n",
       "      <td>71</td>\n",
       "    </tr>\n",
       "    <tr>\n",
       "      <th>21</th>\n",
       "      <td>124</td>\n",
       "    </tr>\n",
       "    <tr>\n",
       "      <th>22</th>\n",
       "      <td>126</td>\n",
       "    </tr>\n",
       "  </tbody>\n",
       "</table>\n",
       "</div>"
      ],
      "text/plain": [
       "           EpisodeNum\n",
       "SeasonNum            \n",
       "14                 15\n",
       "15                 67\n",
       "16                 96\n",
       "17                106\n",
       "18                116\n",
       "19                143\n",
       "20                 71\n",
       "21                124\n",
       "22                126"
      ]
     },
     "execution_count": 16,
     "metadata": {},
     "output_type": "execute_result"
    }
   ],
   "source": [
    "# Episodes by Season\n",
    "df_philo.groupby('SeasonNum').count()"
   ]
  },
  {
   "cell_type": "code",
   "execution_count": 17,
   "id": "e853fbe5",
   "metadata": {},
   "outputs": [
    {
     "data": {
      "text/html": [
       "<div>\n",
       "<style scoped>\n",
       "    .dataframe tbody tr th:only-of-type {\n",
       "        vertical-align: middle;\n",
       "    }\n",
       "\n",
       "    .dataframe tbody tr th {\n",
       "        vertical-align: top;\n",
       "    }\n",
       "\n",
       "    .dataframe thead th {\n",
       "        text-align: right;\n",
       "    }\n",
       "</style>\n",
       "<table border=\"1\" class=\"dataframe\">\n",
       "  <thead>\n",
       "    <tr style=\"text-align: right;\">\n",
       "      <th></th>\n",
       "      <th>SeasonNum</th>\n",
       "      <th>EpisodeNum</th>\n",
       "    </tr>\n",
       "  </thead>\n",
       "  <tbody>\n",
       "    <tr>\n",
       "      <th>133</th>\n",
       "      <td>16</td>\n",
       "      <td>93</td>\n",
       "    </tr>\n",
       "    <tr>\n",
       "      <th>510</th>\n",
       "      <td>19</td>\n",
       "      <td>168</td>\n",
       "    </tr>\n",
       "    <tr>\n",
       "      <th>62</th>\n",
       "      <td>15</td>\n",
       "      <td>92</td>\n",
       "    </tr>\n",
       "    <tr>\n",
       "      <th>521</th>\n",
       "      <td>19</td>\n",
       "      <td>179</td>\n",
       "    </tr>\n",
       "    <tr>\n",
       "      <th>161</th>\n",
       "      <td>16</td>\n",
       "      <td>164</td>\n",
       "    </tr>\n",
       "    <tr>\n",
       "      <th>275</th>\n",
       "      <td>17</td>\n",
       "      <td>192</td>\n",
       "    </tr>\n",
       "    <tr>\n",
       "      <th>835</th>\n",
       "      <td>22</td>\n",
       "      <td>108</td>\n",
       "    </tr>\n",
       "    <tr>\n",
       "      <th>738</th>\n",
       "      <td>22</td>\n",
       "      <td>2</td>\n",
       "    </tr>\n",
       "    <tr>\n",
       "      <th>440</th>\n",
       "      <td>19</td>\n",
       "      <td>69</td>\n",
       "    </tr>\n",
       "    <tr>\n",
       "      <th>194</th>\n",
       "      <td>17</td>\n",
       "      <td>29</td>\n",
       "    </tr>\n",
       "  </tbody>\n",
       "</table>\n",
       "</div>"
      ],
      "text/plain": [
       "     SeasonNum  EpisodeNum\n",
       "133         16          93\n",
       "510         19         168\n",
       "62          15          92\n",
       "521         19         179\n",
       "161         16         164\n",
       "275         17         192\n",
       "835         22         108\n",
       "738         22           2\n",
       "440         19          69\n",
       "194         17          29"
      ]
     },
     "execution_count": 17,
     "metadata": {},
     "output_type": "execute_result"
    }
   ],
   "source": [
    "# Sample of Philo episodes\n",
    "df_philo.sample(n=10)"
   ]
  }
 ],
 "metadata": {
  "kernelspec": {
   "display_name": "Python 3 (ipykernel)",
   "language": "python",
   "name": "python3"
  },
  "language_info": {
   "codemirror_mode": {
    "name": "ipython",
    "version": 3
   },
   "file_extension": ".py",
   "mimetype": "text/x-python",
   "name": "python",
   "nbconvert_exporter": "python",
   "pygments_lexer": "ipython3",
   "version": "3.9.9"
  }
 },
 "nbformat": 4,
 "nbformat_minor": 5
}
